{
 "cells": [
  {
   "cell_type": "markdown",
   "metadata": {
    "id": "BVo07oYtBojs"
   },
   "source": [
    "# Описание датасета"
   ]
  },
  {
   "cell_type": "markdown",
   "metadata": {
    "id": "Kfbn0KeyBoj-"
   },
   "source": [
    "![](https://storage.googleapis.com/kaggle-datasets-images/2766607/4779921/a6199db8893c599129662fe135b22a06/dataset-cover.jpeg?t=2022-12-28-03-16-10)\n",
    "<br>Представлен датасет с информацией об игроках чемпионатов FIFA с 1930 по 2018 гг. (датасет выложен на платформе [Kaggle](https://www.kaggle.com/datasets/basharalkuwaiti/fifa-world-cup))."
   ]
  },
  {
   "cell_type": "markdown",
   "metadata": {
    "id": "G8tquLicBoj-"
   },
   "source": [
    "**Формат файла** : *json*"
   ]
  },
  {
   "cell_type": "markdown",
   "metadata": {
    "id": "lJwq8HXiBoj_"
   },
   "source": [
    "**Ссылка на файл** : https://drive.google.com/file/d/1wSMgYdIsPARpYFNI18bUzrdF4jXjgr9I/view?usp=share_link"
   ]
  },
  {
   "cell_type": "markdown",
   "metadata": {
    "id": "vFTE5tWxsCC6"
   },
   "source": [
    "# Задание. Работа с json и вложенными структурами"
   ]
  },
  {
   "cell_type": "code",
   "execution_count": 116,
   "metadata": {
    "id": "5EQwD0uvsCC9"
   },
   "outputs": [],
   "source": [
    "# импортируйте библиотеку pandas\n",
    "import pandas as pd"
   ]
  },
  {
   "cell_type": "code",
   "execution_count": 117,
   "metadata": {
    "id": "nVw4tPGKsCC-"
   },
   "outputs": [],
   "source": [
    "# прочитайте датасет и сохраните его в переменную df\n",
    "df = pd.read_json(\"teamPlayers.json\")"
   ]
  },
  {
   "cell_type": "code",
   "execution_count": 118,
   "metadata": {
    "id": "Lvl8WZh-sCC-"
   },
   "outputs": [
    {
     "data": {
      "text/html": [
       "<div>\n",
       "<style scoped>\n",
       "    .dataframe tbody tr th:only-of-type {\n",
       "        vertical-align: middle;\n",
       "    }\n",
       "\n",
       "    .dataframe tbody tr th {\n",
       "        vertical-align: top;\n",
       "    }\n",
       "\n",
       "    .dataframe thead th {\n",
       "        text-align: right;\n",
       "    }\n",
       "</style>\n",
       "<table border=\"1\" class=\"dataframe\">\n",
       "  <thead>\n",
       "    <tr style=\"text-align: right;\">\n",
       "      <th></th>\n",
       "      <th>idCompetition</th>\n",
       "      <th>idTeam</th>\n",
       "      <th>teamName</th>\n",
       "      <th>playerId</th>\n",
       "    </tr>\n",
       "  </thead>\n",
       "  <tbody>\n",
       "    <tr>\n",
       "      <th>0</th>\n",
       "      <td>0</td>\n",
       "      <td>43911</td>\n",
       "      <td>Mexico</td>\n",
       "      <td>{'playerId': '46750', 'name': 'Oscar BONFIGLIO...</td>\n",
       "    </tr>\n",
       "    <tr>\n",
       "      <th>1</th>\n",
       "      <td>0</td>\n",
       "      <td>43911</td>\n",
       "      <td>Mexico</td>\n",
       "      <td>{'playerId': '50387', 'name': 'Rafael GARZA', ...</td>\n",
       "    </tr>\n",
       "    <tr>\n",
       "      <th>2</th>\n",
       "      <td>0</td>\n",
       "      <td>43911</td>\n",
       "      <td>Mexico</td>\n",
       "      <td>{'playerId': '57131', 'name': 'Manuel ROSAS', ...</td>\n",
       "    </tr>\n",
       "    <tr>\n",
       "      <th>3</th>\n",
       "      <td>0</td>\n",
       "      <td>43911</td>\n",
       "      <td>Mexico</td>\n",
       "      <td>{'playerId': '45536', 'name': 'Efrain AMEZCUA'...</td>\n",
       "    </tr>\n",
       "    <tr>\n",
       "      <th>4</th>\n",
       "      <td>0</td>\n",
       "      <td>43911</td>\n",
       "      <td>Mexico</td>\n",
       "      <td>{'playerId': '57129', 'name': 'Felipe ROSAS', ...</td>\n",
       "    </tr>\n",
       "  </tbody>\n",
       "</table>\n",
       "</div>"
      ],
      "text/plain": [
       "   idCompetition  idTeam teamName  \\\n",
       "0              0   43911   Mexico   \n",
       "1              0   43911   Mexico   \n",
       "2              0   43911   Mexico   \n",
       "3              0   43911   Mexico   \n",
       "4              0   43911   Mexico   \n",
       "\n",
       "                                            playerId  \n",
       "0  {'playerId': '46750', 'name': 'Oscar BONFIGLIO...  \n",
       "1  {'playerId': '50387', 'name': 'Rafael GARZA', ...  \n",
       "2  {'playerId': '57131', 'name': 'Manuel ROSAS', ...  \n",
       "3  {'playerId': '45536', 'name': 'Efrain AMEZCUA'...  \n",
       "4  {'playerId': '57129', 'name': 'Felipe ROSAS', ...  "
      ]
     },
     "execution_count": 118,
     "metadata": {},
     "output_type": "execute_result"
    }
   ],
   "source": [
    "# проведите визуальный обзор датасета\n",
    "df.head()"
   ]
  },
  {
   "cell_type": "code",
   "execution_count": 119,
   "metadata": {
    "id": "rqmSrWBQsCC_"
   },
   "outputs": [],
   "source": [
    "# создайте копию датафрейма, сохранив его в переменную df1\n",
    "df1 = df.copy()"
   ]
  },
  {
   "cell_type": "code",
   "execution_count": 120,
   "metadata": {
    "id": "sObOvLPisCDB"
   },
   "outputs": [
    {
     "data": {
      "text/plain": [
       "{'playerId': '46750',\n",
       " 'name': 'Oscar BONFIGLIO',\n",
       " 'shirtNumber': None,\n",
       " 'captain': False,\n",
       " 'position': 0}"
      ]
     },
     "execution_count": 120,
     "metadata": {},
     "output_type": "execute_result"
    }
   ],
   "source": [
    "# изучите структуру данных по одному из значений признака 'playerId'\n",
    "df1['playerId'][0]"
   ]
  },
  {
   "cell_type": "code",
   "execution_count": 121,
   "metadata": {
    "id": "UxonWuJhJZls"
   },
   "outputs": [],
   "source": [
    "# распакуйте значения по ключу 'name' в столбец с полным именем и в столбец, содержащий только фамилии футболистов\n",
    "def player_name(data):\n",
    "    return data[\"name\"].split()[0]\n",
    "\n",
    "def player_surname(data):\n",
    "    temp = data[\"name\"].split()\n",
    "    if len(temp) < 2:\n",
    "        return pd.NA\n",
    "    return temp[1]"
   ]
  },
  {
   "cell_type": "code",
   "execution_count": 122,
   "metadata": {
    "id": "KvB2QVBuFEHn"
   },
   "outputs": [],
   "source": [
    "df1['player_name'] = df1[\"playerId\"].apply(player_name)"
   ]
  },
  {
   "cell_type": "code",
   "execution_count": 123,
   "metadata": {
    "id": "dTH2yJ3iJwlo"
   },
   "outputs": [],
   "source": [
    "df1['player_surname'] = df1[\"playerId\"].apply(player_surname)"
   ]
  },
  {
   "cell_type": "code",
   "execution_count": 124,
   "metadata": {
    "id": "UEAn7WyC-EOB"
   },
   "outputs": [],
   "source": [
    "# распакуйте значения по ключам 'captain', 'position' в отдельные столбцы\n",
    "def player_captain(data):\n",
    "  return data[\"captain\"]\n",
    "\n",
    "def player_position(data):\n",
    "  return data[\"position\"]"
   ]
  },
  {
   "cell_type": "code",
   "execution_count": 125,
   "metadata": {
    "id": "uDAGeLDrG_xw"
   },
   "outputs": [],
   "source": [
    "df1['player_captain'] = df1[\"playerId\"].apply(player_captain) "
   ]
  },
  {
   "cell_type": "code",
   "execution_count": 126,
   "metadata": {
    "id": "0jPEfH-nHEfq"
   },
   "outputs": [],
   "source": [
    "df1['player_position'] = df1[\"playerId\"].apply(player_position)"
   ]
  },
  {
   "cell_type": "code",
   "execution_count": 127,
   "metadata": {
    "id": "LdKeQdi-LjwU"
   },
   "outputs": [
    {
     "data": {
      "text/html": [
       "<div>\n",
       "<style scoped>\n",
       "    .dataframe tbody tr th:only-of-type {\n",
       "        vertical-align: middle;\n",
       "    }\n",
       "\n",
       "    .dataframe tbody tr th {\n",
       "        vertical-align: top;\n",
       "    }\n",
       "\n",
       "    .dataframe thead th {\n",
       "        text-align: right;\n",
       "    }\n",
       "</style>\n",
       "<table border=\"1\" class=\"dataframe\">\n",
       "  <thead>\n",
       "    <tr style=\"text-align: right;\">\n",
       "      <th></th>\n",
       "      <th>idCompetition</th>\n",
       "      <th>idTeam</th>\n",
       "      <th>teamName</th>\n",
       "      <th>playerId</th>\n",
       "      <th>player_name</th>\n",
       "      <th>player_surname</th>\n",
       "      <th>player_captain</th>\n",
       "      <th>player_position</th>\n",
       "    </tr>\n",
       "  </thead>\n",
       "  <tbody>\n",
       "    <tr>\n",
       "      <th>0</th>\n",
       "      <td>0</td>\n",
       "      <td>43911</td>\n",
       "      <td>Mexico</td>\n",
       "      <td>{'playerId': '46750', 'name': 'Oscar BONFIGLIO...</td>\n",
       "      <td>Oscar</td>\n",
       "      <td>BONFIGLIO</td>\n",
       "      <td>False</td>\n",
       "      <td>0</td>\n",
       "    </tr>\n",
       "    <tr>\n",
       "      <th>1</th>\n",
       "      <td>0</td>\n",
       "      <td>43911</td>\n",
       "      <td>Mexico</td>\n",
       "      <td>{'playerId': '50387', 'name': 'Rafael GARZA', ...</td>\n",
       "      <td>Rafael</td>\n",
       "      <td>GARZA</td>\n",
       "      <td>True</td>\n",
       "      <td>1</td>\n",
       "    </tr>\n",
       "    <tr>\n",
       "      <th>2</th>\n",
       "      <td>0</td>\n",
       "      <td>43911</td>\n",
       "      <td>Mexico</td>\n",
       "      <td>{'playerId': '57131', 'name': 'Manuel ROSAS', ...</td>\n",
       "      <td>Manuel</td>\n",
       "      <td>ROSAS</td>\n",
       "      <td>False</td>\n",
       "      <td>1</td>\n",
       "    </tr>\n",
       "    <tr>\n",
       "      <th>3</th>\n",
       "      <td>0</td>\n",
       "      <td>43911</td>\n",
       "      <td>Mexico</td>\n",
       "      <td>{'playerId': '45536', 'name': 'Efrain AMEZCUA'...</td>\n",
       "      <td>Efrain</td>\n",
       "      <td>AMEZCUA</td>\n",
       "      <td>False</td>\n",
       "      <td>2</td>\n",
       "    </tr>\n",
       "    <tr>\n",
       "      <th>4</th>\n",
       "      <td>0</td>\n",
       "      <td>43911</td>\n",
       "      <td>Mexico</td>\n",
       "      <td>{'playerId': '57129', 'name': 'Felipe ROSAS', ...</td>\n",
       "      <td>Felipe</td>\n",
       "      <td>ROSAS</td>\n",
       "      <td>False</td>\n",
       "      <td>2</td>\n",
       "    </tr>\n",
       "  </tbody>\n",
       "</table>\n",
       "</div>"
      ],
      "text/plain": [
       "   idCompetition  idTeam teamName  \\\n",
       "0              0   43911   Mexico   \n",
       "1              0   43911   Mexico   \n",
       "2              0   43911   Mexico   \n",
       "3              0   43911   Mexico   \n",
       "4              0   43911   Mexico   \n",
       "\n",
       "                                            playerId player_name  \\\n",
       "0  {'playerId': '46750', 'name': 'Oscar BONFIGLIO...       Oscar   \n",
       "1  {'playerId': '50387', 'name': 'Rafael GARZA', ...      Rafael   \n",
       "2  {'playerId': '57131', 'name': 'Manuel ROSAS', ...      Manuel   \n",
       "3  {'playerId': '45536', 'name': 'Efrain AMEZCUA'...      Efrain   \n",
       "4  {'playerId': '57129', 'name': 'Felipe ROSAS', ...      Felipe   \n",
       "\n",
       "  player_surname  player_captain  player_position  \n",
       "0      BONFIGLIO           False                0  \n",
       "1          GARZA            True                1  \n",
       "2          ROSAS           False                1  \n",
       "3        AMEZCUA           False                2  \n",
       "4          ROSAS           False                2  "
      ]
     },
     "execution_count": 127,
     "metadata": {},
     "output_type": "execute_result"
    }
   ],
   "source": [
    "# проведите визуальный обзор датасета\n",
    "df1.head()"
   ]
  },
  {
   "cell_type": "code",
   "execution_count": 128,
   "metadata": {
    "id": "4rjeATt0Nnft"
   },
   "outputs": [],
   "source": [
    "# переименуйте столбец 'playerId' в 'player_info'\n",
    "# (автоматически перезапишите датафрейм)\n",
    "df1.rename(columns={\"playerId\": \"player_info\"}, inplace=True)"
   ]
  },
  {
   "cell_type": "code",
   "execution_count": 129,
   "metadata": {
    "id": "izzz8ZFlMAZp"
   },
   "outputs": [
    {
     "data": {
      "text/plain": [
       "3"
      ]
     },
     "execution_count": 129,
     "metadata": {},
     "output_type": "execute_result"
    }
   ],
   "source": [
    "# определите, сколько раз встречается фамилия GOLOVIN по признаку player_surname\n",
    "df1[df1[\"player_surname\"] == \"GOLOVIN\"].shape[0]"
   ]
  },
  {
   "cell_type": "code",
   "execution_count": 130,
   "metadata": {
    "id": "XZHtzo5rMjB-"
   },
   "outputs": [
    {
     "data": {
      "text/html": [
       "<div>\n",
       "<style scoped>\n",
       "    .dataframe tbody tr th:only-of-type {\n",
       "        vertical-align: middle;\n",
       "    }\n",
       "\n",
       "    .dataframe tbody tr th {\n",
       "        vertical-align: top;\n",
       "    }\n",
       "\n",
       "    .dataframe thead th {\n",
       "        text-align: right;\n",
       "    }\n",
       "</style>\n",
       "<table border=\"1\" class=\"dataframe\">\n",
       "  <thead>\n",
       "    <tr style=\"text-align: right;\">\n",
       "      <th></th>\n",
       "      <th>idCompetition</th>\n",
       "      <th>idTeam</th>\n",
       "      <th>teamName</th>\n",
       "      <th>player_info</th>\n",
       "      <th>player_name</th>\n",
       "      <th>player_surname</th>\n",
       "      <th>player_captain</th>\n",
       "      <th>player_position</th>\n",
       "    </tr>\n",
       "  </thead>\n",
       "  <tbody>\n",
       "    <tr>\n",
       "      <th>9702</th>\n",
       "      <td>20</td>\n",
       "      <td>43965</td>\n",
       "      <td>Russia</td>\n",
       "      <td>{'playerId': '371639', 'name': 'Aleksandr GOLO...</td>\n",
       "      <td>Aleksandr</td>\n",
       "      <td>GOLOVIN</td>\n",
       "      <td>False</td>\n",
       "      <td>2</td>\n",
       "    </tr>\n",
       "    <tr>\n",
       "      <th>10558</th>\n",
       "      <td>20</td>\n",
       "      <td>43965</td>\n",
       "      <td>Russia</td>\n",
       "      <td>{'playerId': '371639', 'name': 'Aleksandr GOLO...</td>\n",
       "      <td>Aleksandr</td>\n",
       "      <td>GOLOVIN</td>\n",
       "      <td>False</td>\n",
       "      <td>4</td>\n",
       "    </tr>\n",
       "    <tr>\n",
       "      <th>10775</th>\n",
       "      <td>20</td>\n",
       "      <td>43965</td>\n",
       "      <td>Russia</td>\n",
       "      <td>{'playerId': '371639', 'name': 'Aleksandr GOLO...</td>\n",
       "      <td>Aleksandr</td>\n",
       "      <td>GOLOVIN</td>\n",
       "      <td>False</td>\n",
       "      <td>3</td>\n",
       "    </tr>\n",
       "  </tbody>\n",
       "</table>\n",
       "</div>"
      ],
      "text/plain": [
       "       idCompetition  idTeam teamName  \\\n",
       "9702              20   43965   Russia   \n",
       "10558             20   43965   Russia   \n",
       "10775             20   43965   Russia   \n",
       "\n",
       "                                             player_info player_name  \\\n",
       "9702   {'playerId': '371639', 'name': 'Aleksandr GOLO...   Aleksandr   \n",
       "10558  {'playerId': '371639', 'name': 'Aleksandr GOLO...   Aleksandr   \n",
       "10775  {'playerId': '371639', 'name': 'Aleksandr GOLO...   Aleksandr   \n",
       "\n",
       "      player_surname  player_captain  player_position  \n",
       "9702         GOLOVIN           False                2  \n",
       "10558        GOLOVIN           False                4  \n",
       "10775        GOLOVIN           False                3  "
      ]
     },
     "execution_count": 130,
     "metadata": {},
     "output_type": "execute_result"
    }
   ],
   "source": [
    "# выведите все записи по футболисту с фамилией GOLOVIN\n",
    "df1[df1['player_surname'] == \"GOLOVIN\"]"
   ]
  },
  {
   "cell_type": "code",
   "execution_count": 131,
   "metadata": {
    "id": "CIa-U2XYM9V-"
   },
   "outputs": [],
   "source": [
    "# исключите футболиста с фамилией GOLOVIN из датафрейма по номерам индексов\n",
    "# (автоматически перезапишите датафрейм)\n",
    "df1.drop(index=[9702, 10558, 10775], inplace=True)"
   ]
  },
  {
   "cell_type": "code",
   "execution_count": 139,
   "metadata": {
    "id": "ff0TXqheNWXj"
   },
   "outputs": [
    {
     "data": {
      "text/plain": [
       "10777"
      ]
     },
     "execution_count": 139,
     "metadata": {},
     "output_type": "execute_result"
    }
   ],
   "source": [
    "# определите, сколько осталось записей после исключения футболиста с фамилией GOLOVIN\n",
    "df1.shape[0]"
   ]
  },
  {
   "cell_type": "code",
   "execution_count": 143,
   "metadata": {
    "id": "v8JDJzfkOGFT"
   },
   "outputs": [],
   "source": [
    "# запишите полученный датафрейм в формат json и сохраните его в переменную df2\n",
    "df2 = df1.to_json()"
   ]
  },
  {
   "cell_type": "code",
   "execution_count": 145,
   "metadata": {
    "id": "SI5H04yxO9mI"
   },
   "outputs": [
    {
     "data": {
      "text/plain": [
       "str"
      ]
     },
     "execution_count": 145,
     "metadata": {},
     "output_type": "execute_result"
    }
   ],
   "source": [
    "# определите тип данных переменной df2\n",
    "type(df2)"
   ]
  },
  {
   "cell_type": "code",
   "execution_count": 147,
   "metadata": {
    "id": "V4GsJqFZPrgn"
   },
   "outputs": [],
   "source": [
    "# импортируйте модуль json\n",
    "import json"
   ]
  },
  {
   "cell_type": "code",
   "execution_count": 149,
   "metadata": {
    "id": "ePD-oS7-PhLj"
   },
   "outputs": [],
   "source": [
    "# прочитайте переменную df2 с помощью методов модуля json и сохраните данные в переменную df3\n",
    "df3 = json.loads(df2)"
   ]
  },
  {
   "cell_type": "code",
   "execution_count": 163,
   "metadata": {
    "id": "ORuUNsMCWY8j"
   },
   "outputs": [
    {
     "name": "stdout",
     "output_type": "stream",
     "text": [
      "HAZARD\n"
     ]
    }
   ],
   "source": [
    "# определите фамилию футболиста по ключу '10700'\n",
    "print(df3[\"player_surname\"][\"10700\"])"
   ]
  }
 ],
 "metadata": {
  "colab": {
   "provenance": []
  },
  "kernelspec": {
   "display_name": "Python 3 (ipykernel)",
   "language": "python",
   "name": "python3"
  },
  "language_info": {
   "codemirror_mode": {
    "name": "ipython",
    "version": 3
   },
   "file_extension": ".py",
   "mimetype": "text/x-python",
   "name": "python",
   "nbconvert_exporter": "python",
   "pygments_lexer": "ipython3",
   "version": "3.12.7"
  }
 },
 "nbformat": 4,
 "nbformat_minor": 4
}
