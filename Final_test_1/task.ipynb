{
 "cells": [
  {
   "cell_type": "markdown",
   "metadata": {
    "id": "ubl8S6m-Okfm"
   },
   "source": [
    "# Описание датасета"
   ]
  },
  {
   "cell_type": "markdown",
   "metadata": {
    "id": "ZpY_ynBcRHJP"
   },
   "source": [
    "![](https://storage.googleapis.com/kaggle-datasets-images/1617785/2659800/c06a7a3de61a874af446f350118ca9ca/dataset-cover.jpg?t=2021-09-28-18-06-09)\n",
    "<br>Представлен датасет с данными об игроках режима «Карьера» компьютерной игры FIFA 2022 (датасет выложен на платформе [Kaggle](https://www.kaggle.com/datasets/stefanoleone992/fifa-22-complete-player-dataset))."
   ]
  },
  {
   "cell_type": "markdown",
   "metadata": {
    "id": "TOpmRX4Vvqme"
   },
   "source": [
    "**Формат файла** : *csv*"
   ]
  },
  {
   "cell_type": "markdown",
   "metadata": {
    "id": "d3Viry5eSTw9"
   },
   "source": [
    "**Ссылка на файл** : https://drive.google.com/file/d/1TO3ZFteyoxQ1GQYrs9Y3hDSdhxXDpx1u/view?usp=share_link"
   ]
  },
  {
   "cell_type": "markdown",
   "metadata": {
    "id": "N-iVm0gwVeje"
   },
   "source": [
    "# Обзор датасета. Библиотека Pandas"
   ]
  },
  {
   "cell_type": "code",
   "execution_count": 664,
   "metadata": {
    "id": "oFiDlt-tTJqK"
   },
   "outputs": [],
   "source": [
    "# импортируйте библиотеку pandas\n",
    "import pandas as pd"
   ]
  },
  {
   "cell_type": "code",
   "execution_count": 665,
   "metadata": {
    "id": "7q_PjhIpS6kJ"
   },
   "outputs": [],
   "source": [
    "# прочитайте датасет и сохраните его в переменную \n",
    "df = pd.read_csv(\"players.csv\", low_memory=False)"
   ]
  },
  {
   "cell_type": "code",
   "execution_count": 666,
   "metadata": {
    "id": "jeUuSYrhTRGL"
   },
   "outputs": [
    {
     "data": {
      "text/html": [
       "<div>\n",
       "<style scoped>\n",
       "    .dataframe tbody tr th:only-of-type {\n",
       "        vertical-align: middle;\n",
       "    }\n",
       "\n",
       "    .dataframe tbody tr th {\n",
       "        vertical-align: top;\n",
       "    }\n",
       "\n",
       "    .dataframe thead th {\n",
       "        text-align: right;\n",
       "    }\n",
       "</style>\n",
       "<table border=\"1\" class=\"dataframe\">\n",
       "  <thead>\n",
       "    <tr style=\"text-align: right;\">\n",
       "      <th></th>\n",
       "      <th>sofifa_id</th>\n",
       "      <th>player_url</th>\n",
       "      <th>short_name</th>\n",
       "      <th>long_name</th>\n",
       "      <th>player_positions</th>\n",
       "      <th>overall</th>\n",
       "      <th>potential</th>\n",
       "      <th>value_eur</th>\n",
       "      <th>wage_eur</th>\n",
       "      <th>age</th>\n",
       "      <th>...</th>\n",
       "      <th>lcb</th>\n",
       "      <th>cb</th>\n",
       "      <th>rcb</th>\n",
       "      <th>rb</th>\n",
       "      <th>gk</th>\n",
       "      <th>player_face_url</th>\n",
       "      <th>club_logo_url</th>\n",
       "      <th>club_flag_url</th>\n",
       "      <th>nation_logo_url</th>\n",
       "      <th>nation_flag_url</th>\n",
       "    </tr>\n",
       "  </thead>\n",
       "  <tbody>\n",
       "    <tr>\n",
       "      <th>0</th>\n",
       "      <td>158023</td>\n",
       "      <td>https://sofifa.com/player/158023/lionel-messi/...</td>\n",
       "      <td>L. Messi</td>\n",
       "      <td>Lionel Andrés Messi Cuccittini</td>\n",
       "      <td>RW, ST, CF</td>\n",
       "      <td>93</td>\n",
       "      <td>93</td>\n",
       "      <td>78000000.0</td>\n",
       "      <td>320000.0</td>\n",
       "      <td>34</td>\n",
       "      <td>...</td>\n",
       "      <td>50+3</td>\n",
       "      <td>50+3</td>\n",
       "      <td>50+3</td>\n",
       "      <td>61+3</td>\n",
       "      <td>19+3</td>\n",
       "      <td>https://cdn.sofifa.net/players/158/023/22_120.png</td>\n",
       "      <td>https://cdn.sofifa.net/teams/73/60.png</td>\n",
       "      <td>https://cdn.sofifa.net/flags/fr.png</td>\n",
       "      <td>https://cdn.sofifa.net/teams/1369/60.png</td>\n",
       "      <td>https://cdn.sofifa.net/flags/ar.png</td>\n",
       "    </tr>\n",
       "    <tr>\n",
       "      <th>1</th>\n",
       "      <td>188545</td>\n",
       "      <td>https://sofifa.com/player/188545/robert-lewand...</td>\n",
       "      <td>R. Lewandowski</td>\n",
       "      <td>Robert Lewandowski</td>\n",
       "      <td>ST</td>\n",
       "      <td>92</td>\n",
       "      <td>92</td>\n",
       "      <td>119500000.0</td>\n",
       "      <td>270000.0</td>\n",
       "      <td>32</td>\n",
       "      <td>...</td>\n",
       "      <td>60+3</td>\n",
       "      <td>60+3</td>\n",
       "      <td>60+3</td>\n",
       "      <td>61+3</td>\n",
       "      <td>19+3</td>\n",
       "      <td>https://cdn.sofifa.net/players/188/545/22_120.png</td>\n",
       "      <td>https://cdn.sofifa.net/teams/21/60.png</td>\n",
       "      <td>https://cdn.sofifa.net/flags/de.png</td>\n",
       "      <td>https://cdn.sofifa.net/teams/1353/60.png</td>\n",
       "      <td>https://cdn.sofifa.net/flags/pl.png</td>\n",
       "    </tr>\n",
       "    <tr>\n",
       "      <th>2</th>\n",
       "      <td>20801</td>\n",
       "      <td>https://sofifa.com/player/20801/c-ronaldo-dos-...</td>\n",
       "      <td>Cristiano Ronaldo</td>\n",
       "      <td>Cristiano Ronaldo dos Santos Aveiro</td>\n",
       "      <td>ST, LW</td>\n",
       "      <td>91</td>\n",
       "      <td>91</td>\n",
       "      <td>45000000.0</td>\n",
       "      <td>270000.0</td>\n",
       "      <td>36</td>\n",
       "      <td>...</td>\n",
       "      <td>53+3</td>\n",
       "      <td>53+3</td>\n",
       "      <td>53+3</td>\n",
       "      <td>60+3</td>\n",
       "      <td>20+3</td>\n",
       "      <td>https://cdn.sofifa.net/players/020/801/22_120.png</td>\n",
       "      <td>https://cdn.sofifa.net/teams/11/60.png</td>\n",
       "      <td>https://cdn.sofifa.net/flags/gb-eng.png</td>\n",
       "      <td>https://cdn.sofifa.net/teams/1354/60.png</td>\n",
       "      <td>https://cdn.sofifa.net/flags/pt.png</td>\n",
       "    </tr>\n",
       "    <tr>\n",
       "      <th>3</th>\n",
       "      <td>190871</td>\n",
       "      <td>https://sofifa.com/player/190871/neymar-da-sil...</td>\n",
       "      <td>Neymar Jr</td>\n",
       "      <td>Neymar da Silva Santos Júnior</td>\n",
       "      <td>LW, CAM</td>\n",
       "      <td>91</td>\n",
       "      <td>91</td>\n",
       "      <td>129000000.0</td>\n",
       "      <td>270000.0</td>\n",
       "      <td>29</td>\n",
       "      <td>...</td>\n",
       "      <td>50+3</td>\n",
       "      <td>50+3</td>\n",
       "      <td>50+3</td>\n",
       "      <td>62+3</td>\n",
       "      <td>20+3</td>\n",
       "      <td>https://cdn.sofifa.net/players/190/871/22_120.png</td>\n",
       "      <td>https://cdn.sofifa.net/teams/73/60.png</td>\n",
       "      <td>https://cdn.sofifa.net/flags/fr.png</td>\n",
       "      <td>NaN</td>\n",
       "      <td>https://cdn.sofifa.net/flags/br.png</td>\n",
       "    </tr>\n",
       "    <tr>\n",
       "      <th>4</th>\n",
       "      <td>192985</td>\n",
       "      <td>https://sofifa.com/player/192985/kevin-de-bruy...</td>\n",
       "      <td>K. De Bruyne</td>\n",
       "      <td>Kevin De Bruyne</td>\n",
       "      <td>CM, CAM</td>\n",
       "      <td>91</td>\n",
       "      <td>91</td>\n",
       "      <td>125500000.0</td>\n",
       "      <td>350000.0</td>\n",
       "      <td>30</td>\n",
       "      <td>...</td>\n",
       "      <td>69+3</td>\n",
       "      <td>69+3</td>\n",
       "      <td>69+3</td>\n",
       "      <td>75+3</td>\n",
       "      <td>21+3</td>\n",
       "      <td>https://cdn.sofifa.net/players/192/985/22_120.png</td>\n",
       "      <td>https://cdn.sofifa.net/teams/10/60.png</td>\n",
       "      <td>https://cdn.sofifa.net/flags/gb-eng.png</td>\n",
       "      <td>https://cdn.sofifa.net/teams/1325/60.png</td>\n",
       "      <td>https://cdn.sofifa.net/flags/be.png</td>\n",
       "    </tr>\n",
       "  </tbody>\n",
       "</table>\n",
       "<p>5 rows × 110 columns</p>\n",
       "</div>"
      ],
      "text/plain": [
       "   sofifa_id                                         player_url  \\\n",
       "0     158023  https://sofifa.com/player/158023/lionel-messi/...   \n",
       "1     188545  https://sofifa.com/player/188545/robert-lewand...   \n",
       "2      20801  https://sofifa.com/player/20801/c-ronaldo-dos-...   \n",
       "3     190871  https://sofifa.com/player/190871/neymar-da-sil...   \n",
       "4     192985  https://sofifa.com/player/192985/kevin-de-bruy...   \n",
       "\n",
       "          short_name                            long_name player_positions  \\\n",
       "0           L. Messi       Lionel Andrés Messi Cuccittini       RW, ST, CF   \n",
       "1     R. Lewandowski                   Robert Lewandowski               ST   \n",
       "2  Cristiano Ronaldo  Cristiano Ronaldo dos Santos Aveiro           ST, LW   \n",
       "3          Neymar Jr        Neymar da Silva Santos Júnior          LW, CAM   \n",
       "4       K. De Bruyne                      Kevin De Bruyne          CM, CAM   \n",
       "\n",
       "   overall  potential    value_eur  wage_eur  age  ...   lcb    cb   rcb  \\\n",
       "0       93         93   78000000.0  320000.0   34  ...  50+3  50+3  50+3   \n",
       "1       92         92  119500000.0  270000.0   32  ...  60+3  60+3  60+3   \n",
       "2       91         91   45000000.0  270000.0   36  ...  53+3  53+3  53+3   \n",
       "3       91         91  129000000.0  270000.0   29  ...  50+3  50+3  50+3   \n",
       "4       91         91  125500000.0  350000.0   30  ...  69+3  69+3  69+3   \n",
       "\n",
       "     rb    gk                                    player_face_url  \\\n",
       "0  61+3  19+3  https://cdn.sofifa.net/players/158/023/22_120.png   \n",
       "1  61+3  19+3  https://cdn.sofifa.net/players/188/545/22_120.png   \n",
       "2  60+3  20+3  https://cdn.sofifa.net/players/020/801/22_120.png   \n",
       "3  62+3  20+3  https://cdn.sofifa.net/players/190/871/22_120.png   \n",
       "4  75+3  21+3  https://cdn.sofifa.net/players/192/985/22_120.png   \n",
       "\n",
       "                            club_logo_url  \\\n",
       "0  https://cdn.sofifa.net/teams/73/60.png   \n",
       "1  https://cdn.sofifa.net/teams/21/60.png   \n",
       "2  https://cdn.sofifa.net/teams/11/60.png   \n",
       "3  https://cdn.sofifa.net/teams/73/60.png   \n",
       "4  https://cdn.sofifa.net/teams/10/60.png   \n",
       "\n",
       "                             club_flag_url  \\\n",
       "0      https://cdn.sofifa.net/flags/fr.png   \n",
       "1      https://cdn.sofifa.net/flags/de.png   \n",
       "2  https://cdn.sofifa.net/flags/gb-eng.png   \n",
       "3      https://cdn.sofifa.net/flags/fr.png   \n",
       "4  https://cdn.sofifa.net/flags/gb-eng.png   \n",
       "\n",
       "                            nation_logo_url  \\\n",
       "0  https://cdn.sofifa.net/teams/1369/60.png   \n",
       "1  https://cdn.sofifa.net/teams/1353/60.png   \n",
       "2  https://cdn.sofifa.net/teams/1354/60.png   \n",
       "3                                       NaN   \n",
       "4  https://cdn.sofifa.net/teams/1325/60.png   \n",
       "\n",
       "                       nation_flag_url  \n",
       "0  https://cdn.sofifa.net/flags/ar.png  \n",
       "1  https://cdn.sofifa.net/flags/pl.png  \n",
       "2  https://cdn.sofifa.net/flags/pt.png  \n",
       "3  https://cdn.sofifa.net/flags/br.png  \n",
       "4  https://cdn.sofifa.net/flags/be.png  \n",
       "\n",
       "[5 rows x 110 columns]"
      ]
     },
     "execution_count": 666,
     "metadata": {},
     "output_type": "execute_result"
    }
   ],
   "source": [
    "# проведите визуальный обзор датасета\n",
    "df.head()"
   ]
  },
  {
   "cell_type": "code",
   "execution_count": 667,
   "metadata": {
    "id": "HqReIiUwTTAg"
   },
   "outputs": [
    {
     "data": {
      "text/plain": [
       "2116290"
      ]
     },
     "execution_count": 667,
     "metadata": {},
     "output_type": "execute_result"
    }
   ],
   "source": [
    "# определите количество ячеек в датафрейме (строки X столбцы)\n",
    "df.size"
   ]
  },
  {
   "cell_type": "code",
   "execution_count": 668,
   "metadata": {
    "id": "nfOoW2hsUZgZ"
   },
   "outputs": [
    {
     "data": {
      "text/plain": [
       "19239"
      ]
     },
     "execution_count": 668,
     "metadata": {},
     "output_type": "execute_result"
    }
   ],
   "source": [
    "# определите количество наблюдений в датафрейме\n",
    "df.shape[0]"
   ]
  },
  {
   "cell_type": "code",
   "execution_count": 669,
   "metadata": {
    "id": "ezVvMlbsUQQP"
   },
   "outputs": [
    {
     "data": {
      "text/plain": [
       "110"
      ]
     },
     "execution_count": 669,
     "metadata": {},
     "output_type": "execute_result"
    }
   ],
   "source": [
    "# определите количество признаков в датафрейме\n",
    "df.shape[1]"
   ]
  },
  {
   "cell_type": "code",
   "execution_count": 670,
   "metadata": {
    "id": "8oI1LtMIUfvh"
   },
   "outputs": [
    {
     "data": {
      "text/plain": [
       "dtype('float64')"
      ]
     },
     "execution_count": 670,
     "metadata": {},
     "output_type": "execute_result"
    }
   ],
   "source": [
    "# определите тип данных по признаку 'wage_eur'\n",
    "df['wage_eur'].dtype"
   ]
  },
  {
   "cell_type": "markdown",
   "metadata": {
    "id": "yLwuG12GX7I8"
   },
   "source": [
    "# Исключение признаков, работа с дубликатами"
   ]
  },
  {
   "cell_type": "code",
   "execution_count": 672,
   "metadata": {
    "id": "QMiIn5GPX7JC"
   },
   "outputs": [],
   "source": [
    "# создайте копию датафрейма, сохранив его в переменную df1\n",
    "df1 = df.copy()"
   ]
  },
  {
   "cell_type": "code",
   "execution_count": 673,
   "metadata": {
    "id": "ANq-IMWLb-xl"
   },
   "outputs": [],
   "source": [
    "# список столбцов, которые необходимо исключить\n",
    "columns = ['club_position',\n",
    " 'club_jersey_number',\n",
    " 'club_loaned_from',\n",
    " 'club_joined',\n",
    " 'club_contract_valid_until',\n",
    " 'nationality_id',\n",
    " 'nationality_name',\n",
    " 'nation_team_id',\n",
    " 'nation_position',\n",
    " 'nation_jersey_number',\n",
    " 'preferred_foot',\n",
    " 'weak_foot',\n",
    " 'skill_moves',\n",
    " 'international_reputation',\n",
    " 'work_rate',\n",
    " 'body_type',\n",
    " 'real_face',\n",
    " 'release_clause_eur',\n",
    " 'player_tags',\n",
    " 'player_traits',\n",
    " 'pace',\n",
    " 'shooting',\n",
    " 'passing',\n",
    " 'dribbling',\n",
    " 'defending',\n",
    " 'physic',\n",
    " 'attacking_crossing',\n",
    " 'attacking_finishing',\n",
    " 'attacking_heading_accuracy',\n",
    " 'attacking_short_passing',\n",
    " 'attacking_volleys',\n",
    " 'skill_dribbling',\n",
    " 'skill_curve',\n",
    " 'skill_fk_accuracy',\n",
    " 'skill_long_passing',\n",
    " 'skill_ball_control',\n",
    " 'movement_acceleration',\n",
    " 'movement_sprint_speed',\n",
    " 'movement_agility',\n",
    " 'movement_reactions',\n",
    " 'movement_balance',\n",
    " 'power_shot_power',\n",
    " 'power_jumping',\n",
    " 'power_stamina',\n",
    " 'power_strength',\n",
    " 'power_long_shots',\n",
    " 'mentality_aggression',\n",
    " 'mentality_interceptions',\n",
    " 'mentality_positioning',\n",
    " 'mentality_vision',\n",
    " 'mentality_penalties',\n",
    " 'mentality_composure',\n",
    " 'defending_marking_awareness',\n",
    " 'defending_standing_tackle',\n",
    " 'defending_sliding_tackle',\n",
    " 'goalkeeping_diving',\n",
    " 'goalkeeping_handling',\n",
    " 'goalkeeping_kicking',\n",
    " 'goalkeeping_positioning',\n",
    " 'goalkeeping_reflexes',\n",
    " 'goalkeeping_speed',\n",
    " 'ls',\n",
    " 'st',\n",
    " 'rs',\n",
    " 'lw',\n",
    " 'lf',\n",
    " 'cf',\n",
    " 'rf',\n",
    " 'rw',\n",
    " 'lam',\n",
    " 'cam',\n",
    " 'ram',\n",
    " 'lm',\n",
    " 'lcm',\n",
    " 'cm',\n",
    " 'rcm',\n",
    " 'rm',\n",
    " 'lwb',\n",
    " 'ldm',\n",
    " 'cdm',\n",
    " 'rdm',\n",
    " 'rwb',\n",
    " 'lb',\n",
    " 'lcb',\n",
    " 'cb',\n",
    " 'rcb',\n",
    " 'rb',\n",
    " 'gk',\n",
    " 'player_face_url',\n",
    " 'club_logo_url',\n",
    " 'club_flag_url',\n",
    " 'nation_logo_url',\n",
    " 'nation_flag_url']"
   ]
  },
  {
   "cell_type": "code",
   "execution_count": 674,
   "metadata": {
    "id": "Zu9Gft_qcf47"
   },
   "outputs": [],
   "source": [
    "# исключите столбцы списка columns из датафрейма, автоматически перезаписав его\n",
    "df1.drop(columns=columns, inplace=True)"
   ]
  },
  {
   "cell_type": "code",
   "execution_count": 675,
   "metadata": {
    "id": "-psgJj5LctJO"
   },
   "outputs": [
    {
     "data": {
      "text/plain": [
       "17"
      ]
     },
     "execution_count": 675,
     "metadata": {},
     "output_type": "execute_result"
    }
   ],
   "source": [
    "# определите количество признаков в датафрейме\n",
    "df1.shape[1]"
   ]
  },
  {
   "cell_type": "code",
   "execution_count": 676,
   "metadata": {
    "id": "hT9i2GZAc4Dl"
   },
   "outputs": [
    {
     "data": {
      "text/plain": [
       "0"
      ]
     },
     "execution_count": 676,
     "metadata": {},
     "output_type": "execute_result"
    }
   ],
   "source": [
    "# определите количество \"полных\" дубликатов\n",
    "# (именно повторно встречающихся записей, первые записи не помечаются)\n",
    "df1.duplicated().sum()"
   ]
  },
  {
   "cell_type": "code",
   "execution_count": 677,
   "metadata": {
    "id": "1Paqq-y0c6NT"
   },
   "outputs": [
    {
     "data": {
      "text/plain": [
       "95"
      ]
     },
     "execution_count": 677,
     "metadata": {},
     "output_type": "execute_result"
    }
   ],
   "source": [
    "# определите количество дубликатов по признакам 'short_name' и 'age' (при условии совпадения значений по обоим признакам)\n",
    "# (именно повторно встречающихся записей, первые записи не помечаются)\n",
    "df1.duplicated(subset=[\"short_name\", \"age\"]).sum()"
   ]
  },
  {
   "cell_type": "code",
   "execution_count": 678,
   "metadata": {
    "id": "iD9NSJIjeTMM"
   },
   "outputs": [],
   "source": [
    "# исключите все записи, по которым совпадают значения по признакам 'long_name' и 'club_name'\n",
    "# (автоматически перезапишите датафрейм)\n",
    "#!!!!!!!!!!!!!!!!!!!!!!!!!!!!!!!!!!!!!!!!!!!!!!!!!!!!!!!!\n",
    "df1.drop_duplicates(subset=[\"long_name\", \"club_name\"], inplace=True, keep=False)"
   ]
  },
  {
   "cell_type": "code",
   "execution_count": 679,
   "metadata": {
    "id": "MVmc-kXEfmln"
   },
   "outputs": [
    {
     "data": {
      "text/plain": [
       "19233"
      ]
     },
     "execution_count": 679,
     "metadata": {},
     "output_type": "execute_result"
    }
   ],
   "source": [
    "# определите количество записей после исключения дубликатов\n",
    "df1.shape[0]"
   ]
  },
  {
   "cell_type": "markdown",
   "metadata": {
    "id": "aYbhjsqTjE6Y"
   },
   "source": [
    "# Работа с пропусками"
   ]
  },
  {
   "cell_type": "code",
   "execution_count": 681,
   "metadata": {
    "id": "qxYjkHnolif4"
   },
   "outputs": [
    {
     "data": {
      "text/plain": [
       "['value_eur',\n",
       " 'wage_eur',\n",
       " 'club_team_id',\n",
       " 'club_name',\n",
       " 'league_name',\n",
       " 'league_level']"
      ]
     },
     "execution_count": 681,
     "metadata": {},
     "output_type": "execute_result"
    }
   ],
   "source": [
    "# определите, по каким признакам присутствуют пропущенные значения\n",
    "missing_columns = df1.isna().any()\n",
    "missing_columns[missing_columns].index.tolist()"
   ]
  },
  {
   "cell_type": "code",
   "execution_count": 682,
   "metadata": {
    "id": "-3BD8fz6jE6i"
   },
   "outputs": [
    {
     "data": {
      "text/plain": [
       "0.3847553683772682"
      ]
     },
     "execution_count": 682,
     "metadata": {},
     "output_type": "execute_result"
    }
   ],
   "source": [
    "# определите процент пропусков по признаку 'value_eur'\n",
    "df1['value_eur'].isnull().mean() * 100"
   ]
  },
  {
   "cell_type": "code",
   "execution_count": 683,
   "metadata": {
    "id": "n73EIdfejE6j"
   },
   "outputs": [
    {
     "data": {
      "text/plain": [
       "19172"
      ]
     },
     "execution_count": 683,
     "metadata": {},
     "output_type": "execute_result"
    }
   ],
   "source": [
    "# определите количество заполненных значений по признаку 'league_name'\n",
    "df1['league_name'].notna().sum()"
   ]
  },
  {
   "cell_type": "code",
   "execution_count": 684,
   "metadata": {
    "id": "ZrQfe0okjE6m"
   },
   "outputs": [],
   "source": [
    "# исключите все записи, по которым отсутствуют значения по признаку 'club_name'\n",
    "# (автоматически перезапишите датафрейм)\n",
    "df1.drop(index=df1[\"club_name\"].isna()[df1[\"club_name\"].isna()].index.tolist(), inplace=True)"
   ]
  },
  {
   "cell_type": "code",
   "execution_count": 685,
   "metadata": {
    "id": "bsMOfWKpnvNy"
   },
   "outputs": [
    {
     "data": {
      "text/plain": [
       "13"
      ]
     },
     "execution_count": 685,
     "metadata": {},
     "output_type": "execute_result"
    }
   ],
   "source": [
    "# определите количество пропущенных значений по признаку 'value_eur'\n",
    "df1[\"value_eur\"].isna().sum()"
   ]
  },
  {
   "cell_type": "code",
   "execution_count": 686,
   "metadata": {
    "id": "XI9Zf_HIoDOq"
   },
   "outputs": [
    {
     "name": "stdout",
     "output_type": "stream",
     "text": [
      "2850611.9317292133\n"
     ]
    }
   ],
   "source": [
    "# найдите среднее значение по признаку 'value_eur'\n",
    "mean = df1[\"value_eur\"].mean()\n",
    "print(mean)"
   ]
  },
  {
   "cell_type": "code",
   "execution_count": 687,
   "metadata": {
    "id": "OAN-LNkJpC-m"
   },
   "outputs": [],
   "source": [
    "# заполните средним значением отсутствующие значения по признаку 'value_eur'\n",
    "# (автоматически перезапишите датафрейм)\n",
    "df1['value_eur'] = df1[\"value_eur\"].fillna(value=mean)"
   ]
  },
  {
   "cell_type": "code",
   "execution_count": 688,
   "metadata": {
    "id": "analF35ppcls"
   },
   "outputs": [],
   "source": [
    "# сбросьте индексы после всех преобразований\n",
    "# (автоматически перезапишите датафрейм)\n",
    "df1.reset_index(inplace=True)"
   ]
  },
  {
   "cell_type": "code",
   "execution_count": 689,
   "metadata": {
    "id": "jtaG9yoopuCy"
   },
   "outputs": [
    {
     "data": {
      "text/plain": [
       "RangeIndex(start=0, stop=19172, step=1)"
      ]
     },
     "execution_count": 689,
     "metadata": {},
     "output_type": "execute_result"
    }
   ],
   "source": [
    "# проверьте диапазон индексов\n",
    "df1.index"
   ]
  },
  {
   "cell_type": "markdown",
   "metadata": {
    "id": "Tr37w503a0IQ"
   },
   "source": [
    "# Преобразование данных"
   ]
  },
  {
   "cell_type": "code",
   "execution_count": 691,
   "metadata": {
    "id": "uLdsBB2na0IW"
   },
   "outputs": [
    {
     "name": "stdout",
     "output_type": "stream",
     "text": [
      "<class 'pandas.core.frame.DataFrame'>\n",
      "RangeIndex: 19172 entries, 0 to 19171\n",
      "Data columns (total 18 columns):\n",
      " #   Column            Non-Null Count  Dtype  \n",
      "---  ------            --------------  -----  \n",
      " 0   index             19172 non-null  int64  \n",
      " 1   sofifa_id         19172 non-null  int64  \n",
      " 2   player_url        19172 non-null  object \n",
      " 3   short_name        19172 non-null  object \n",
      " 4   long_name         19172 non-null  object \n",
      " 5   player_positions  19172 non-null  object \n",
      " 6   overall           19172 non-null  int64  \n",
      " 7   potential         19172 non-null  int64  \n",
      " 8   value_eur         19172 non-null  float64\n",
      " 9   wage_eur          19172 non-null  float64\n",
      " 10  age               19172 non-null  int64  \n",
      " 11  dob               19172 non-null  object \n",
      " 12  height_cm         19172 non-null  int64  \n",
      " 13  weight_kg         19172 non-null  int64  \n",
      " 14  club_team_id      19172 non-null  float64\n",
      " 15  club_name         19172 non-null  object \n",
      " 16  league_name       19172 non-null  object \n",
      " 17  league_level      19172 non-null  float64\n",
      "dtypes: float64(4), int64(7), object(7)\n",
      "memory usage: 2.6+ MB\n"
     ]
    }
   ],
   "source": [
    "# определите формат данных признака 'dob'\n",
    "df1.info()"
   ]
  },
  {
   "cell_type": "code",
   "execution_count": 692,
   "metadata": {
    "id": "d3Q-55vMa0IW"
   },
   "outputs": [],
   "source": [
    "# переведите значения признака 'dob' в формат datetime\n",
    "df1['dob'] = pd.to_datetime(df1[\"dob\"], format=\"%Y-%m-%d\")"
   ]
  },
  {
   "cell_type": "code",
   "execution_count": 693,
   "metadata": {
    "id": "P9UxbdQ4MBUq"
   },
   "outputs": [],
   "source": [
    "# отобразите даты в формате ДД.ММ.ГГГГ\n",
    "df1['dob'] = df1[\"dob\"].dt.strftime(\"%d.%m.%Y\")"
   ]
  },
  {
   "cell_type": "code",
   "execution_count": 694,
   "metadata": {
    "id": "TLZg8Hpla0IX"
   },
   "outputs": [
    {
     "data": {
      "text/plain": [
       "dtype('int64')"
      ]
     },
     "execution_count": 694,
     "metadata": {},
     "output_type": "execute_result"
    }
   ],
   "source": [
    "# определите формат данных признака 'overall'\n",
    "df1['overall'].dtype"
   ]
  },
  {
   "cell_type": "code",
   "execution_count": 695,
   "metadata": {
    "id": "AxIAK-0oa0IX"
   },
   "outputs": [],
   "source": [
    "# переведите значения признака 'overall' в формат числа с плавающей точкой\n",
    "df1['overall'] = df1[\"overall\"].astype(float)"
   ]
  },
  {
   "cell_type": "code",
   "execution_count": 696,
   "metadata": {
    "id": "S4pxTl-xa0IY"
   },
   "outputs": [
    {
     "data": {
      "text/plain": [
       "dtype('float64')"
      ]
     },
     "execution_count": 696,
     "metadata": {},
     "output_type": "execute_result"
    }
   ],
   "source": [
    "# определите формат данных признака 'value_eur'\n",
    "df1['value_eur'].dtype"
   ]
  },
  {
   "cell_type": "code",
   "execution_count": 697,
   "metadata": {
    "id": "tRzNy-vAa0IY"
   },
   "outputs": [],
   "source": [
    "# переведите значения признака 'value_eur' в формат целого числа\n",
    "df1['value_eur'] = df1[\"value_eur\"].astype(int)"
   ]
  },
  {
   "cell_type": "markdown",
   "metadata": {
    "id": "msdTAzxbZLyz"
   },
   "source": [
    "# Расчёт доп. признаков"
   ]
  },
  {
   "cell_type": "code",
   "execution_count": 699,
   "metadata": {
    "id": "3aymwgAMZLzH"
   },
   "outputs": [],
   "source": [
    "# рассчитайте актуальный возраст на текущий год (без учета дня и месяца рождения) и сохраните данные в столбец 'age_new'\n",
    "df1[\"age_new\"] = pd.to_datetime(\"today\").year - pd.to_datetime(df1[\"dob\"], format=\"%d.%m.%Y\").dt.year"
   ]
  },
  {
   "cell_type": "code",
   "execution_count": 700,
   "metadata": {
    "id": "iDf3GJbqiTKC"
   },
   "outputs": [
    {
     "data": {
      "text/plain": [
       "5"
      ]
     },
     "execution_count": 700,
     "metadata": {},
     "output_type": "execute_result"
    }
   ],
   "source": [
    "# определите разницу в возрасте (количество лет) между футболистами под индексом 0 и 10017\n",
    "df1.loc[0, \"age_new\"] - df1.loc[10017, \"age_new\"]"
   ]
  },
  {
   "cell_type": "code",
   "execution_count": 701,
   "metadata": {
    "id": "60wIU8xcZLzI"
   },
   "outputs": [],
   "source": [
    "# определите индекс массы тела футболистов, округлив результат до двух знаков после запятой\n",
    "# запишите результаты в столбец 'imt'\n",
    "# ИМТ = вес (в килограммах) : (рост (м))**2\n",
    "# вес - 'weight_kg', рост - 'height_cm'\n",
    "df1['imt'] = round(df1[\"weight_kg\"] / ((df1[\"height_cm\"] / 100) ** 2), 2)"
   ]
  },
  {
   "cell_type": "code",
   "execution_count": 702,
   "metadata": {
    "id": "a0_4zCwhkNaA"
   },
   "outputs": [
    {
     "data": {
      "text/plain": [
       "22.77"
      ]
     },
     "execution_count": 702,
     "metadata": {},
     "output_type": "execute_result"
    }
   ],
   "source": [
    "# определите среднее значение ИМТ с помощью метода mean(), округлив результат до двух знаков после запятой\n",
    "round(df1['imt'].mean(), 2)"
   ]
  },
  {
   "cell_type": "code",
   "execution_count": 703,
   "metadata": {
    "id": "jhoGLJA7nRJp"
   },
   "outputs": [],
   "source": [
    "# закодируйте значения по признаку 'player_positions' по условию:\n",
    "# если указано одно значение, то присвоить 0, в противном случае - 1\n",
    "# результаты сохраните в столбец 'player_positions_code'\n",
    "# подсказка: количество значений можно определить как длину списка, определенного с помощью метода split()\n",
    "df1['player_positions_code'] = df1[\"player_positions\"].apply(lambda x: 0 if len(x.split(\", \")) == 1 else 1)"
   ]
  },
  {
   "cell_type": "code",
   "execution_count": 704,
   "metadata": {
    "id": "BT3yD8Y2pLQy"
   },
   "outputs": [
    {
     "data": {
      "text/plain": [
       "0    1\n",
       "Name: player_positions_code, dtype: int64"
      ]
     },
     "execution_count": 704,
     "metadata": {},
     "output_type": "execute_result"
    }
   ],
   "source": [
    "# определите наиболее часто встречаемое значение по признаку 'player_positions_code'\n",
    "# подсказка: используйте метод mode()\n",
    "df1['player_positions_code'].mode()"
   ]
  },
  {
   "cell_type": "code",
   "execution_count": 705,
   "metadata": {
    "id": "ssZ35xpVp_Ym"
   },
   "outputs": [],
   "source": [
    "# закодируйте значения по признаку 'player_positions_code' с помощью словаря:\n",
    "# 0: one, 1: several\n",
    "# результаты сохраните в столбец 'player_positions_category'\n",
    "player_positions_dict = {0: \"one\", 1: \"several\"}\n",
    "df1['player_positions_category'] = df1[\"player_positions_code\"].map(player_positions_dict)"
   ]
  },
  {
   "cell_type": "code",
   "execution_count": 706,
   "metadata": {
    "id": "Sq1pxCUfZLzI"
   },
   "outputs": [
    {
     "data": {
      "text/plain": [
       "9776"
      ]
     },
     "execution_count": 706,
     "metadata": {},
     "output_type": "execute_result"
    }
   ],
   "source": [
    "# определите количество значений several по признаку 'player_positions_category'\n",
    "# подсказка: для вывода булевых значений используйте оператор сравнения\n",
    "# подсказка: для расчета количества используйте метод sum()\n",
    "(df1[\"player_positions_category\"] == \"several\").sum()"
   ]
  },
  {
   "cell_type": "markdown",
   "metadata": {
    "id": "BZ3S2K4LubeX"
   },
   "source": [
    "# Форматирование текстовых данных"
   ]
  },
  {
   "cell_type": "code",
   "execution_count": 708,
   "metadata": {
    "id": "_71n_OAsubeu"
   },
   "outputs": [
    {
     "data": {
      "text/plain": [
       "55"
      ]
     },
     "execution_count": 708,
     "metadata": {},
     "output_type": "execute_result"
    }
   ],
   "source": [
    "# определите количество уникальных значений по признаку 'league_name'\n",
    "df1[\"league_name\"].nunique()"
   ]
  },
  {
   "cell_type": "code",
   "execution_count": 709,
   "metadata": {
    "id": "5RhYApRNv8ot"
   },
   "outputs": [],
   "source": [
    "# приведите строковые значения признака 'league_name' в нижний регистр\n",
    "df1['league_name'] = df1[\"league_name\"].str.lower()"
   ]
  },
  {
   "cell_type": "code",
   "execution_count": 710,
   "metadata": {
    "id": "_2EFuTZxwpbf"
   },
   "outputs": [
    {
     "data": {
      "text/plain": [
       "82"
      ]
     },
     "execution_count": 710,
     "metadata": {},
     "output_type": "execute_result"
    }
   ],
   "source": [
    "# определите, сколько раз встречается подстрока 'russia' в строковых данных признака 'league_name'\n",
    "df1['league_name'].str.contains(\"russia\").sum()"
   ]
  },
  {
   "cell_type": "code",
   "execution_count": 711,
   "metadata": {
    "id": "VtI2CzrlyJi-"
   },
   "outputs": [],
   "source": [
    "# заполните все пустые значения по признаку 'league_name' значением 'не указано'\n",
    "df1[\"league_name\"].fillna(value=\"не указано\", inplace=True)"
   ]
  },
  {
   "cell_type": "code",
   "execution_count": 712,
   "metadata": {
    "id": "t5PKHZyAyfXT"
   },
   "outputs": [],
   "source": [
    "# замените значения 'не указано' по признаку 'league_name' на значение 'undefined'\n",
    "df1['league_name'] = df1[\"league_name\"].replace(\"не указано\", \"undefined\")"
   ]
  },
  {
   "cell_type": "code",
   "execution_count": 713,
   "metadata": {
    "id": "72Uh9qTqzfte"
   },
   "outputs": [
    {
     "data": {
      "text/plain": [
       "0"
      ]
     },
     "execution_count": 713,
     "metadata": {},
     "output_type": "execute_result"
    }
   ],
   "source": [
    "# определите, сколько раз встречается подстрока 'undefined' в строковых данных признака 'league_name'\n",
    "(df1['league_name'] == \"undefined\").sum()"
   ]
  },
  {
   "cell_type": "code",
   "execution_count": 714,
   "metadata": {
    "id": "B4zBbM3Pubev"
   },
   "outputs": [],
   "source": [
    "# разделите строки по признаку 'player_positions' на список подстрок\n",
    "def func(x):\n",
    "    return x.split(\", \")\n",
    "df1['player_positions'] = df1[\"player_positions\"].map(func) "
   ]
  },
  {
   "cell_type": "code",
   "execution_count": 716,
   "metadata": {
    "id": "dI_mnaQo2sp3"
   },
   "outputs": [],
   "source": [
    "# трансформируйте датафрейм по признаку 'player_positions' и сохраните его в переменную df2\n",
    "df2 = df1[\"player_positions\"].copy()"
   ]
  },
  {
   "cell_type": "code",
   "execution_count": 718,
   "metadata": {
    "id": "4b_igvGD3TjI"
   },
   "outputs": [
    {
     "data": {
      "text/plain": [
       "19172"
      ]
     },
     "execution_count": 718,
     "metadata": {},
     "output_type": "execute_result"
    }
   ],
   "source": [
    "# определите количество наблюдений в датафрейме df2\n",
    "df2.shape[0]"
   ]
  },
  {
   "cell_type": "code",
   "execution_count": 722,
   "metadata": {
    "id": "tmKT4ueR4Rip"
   },
   "outputs": [],
   "source": [
    "# сохраните датафрейм df1 в формат xlsx без учета индексного столбца\n",
    "df1.to_excel(\"players_new.xlsx\")"
   ]
  },
  {
   "cell_type": "code",
   "execution_count": 727,
   "metadata": {},
   "outputs": [],
   "source": [
    "df2.to_csv(\"players_positions.csv\")"
   ]
  },
  {
   "cell_type": "code",
   "execution_count": 752,
   "metadata": {},
   "outputs": [
    {
     "data": {
      "text/plain": [
       "55"
      ]
     },
     "execution_count": 752,
     "metadata": {},
     "output_type": "execute_result"
    }
   ],
   "source": [
    "df1[\"league_name\"].nunique()"
   ]
  },
  {
   "cell_type": "code",
   "execution_count": null,
   "metadata": {},
   "outputs": [],
   "source": []
  }
 ],
 "metadata": {
  "colab": {
   "collapsed_sections": [
    "ubl8S6m-Okfm",
    "N-iVm0gwVeje",
    "yLwuG12GX7I8",
    "aYbhjsqTjE6Y",
    "Tr37w503a0IQ",
    "msdTAzxbZLyz",
    "BZ3S2K4LubeX"
   ],
   "provenance": []
  },
  "kernelspec": {
   "display_name": "Python 3 (ipykernel)",
   "language": "python",
   "name": "python3"
  },
  "language_info": {
   "codemirror_mode": {
    "name": "ipython",
    "version": 3
   },
   "file_extension": ".py",
   "mimetype": "text/x-python",
   "name": "python",
   "nbconvert_exporter": "python",
   "pygments_lexer": "ipython3",
   "version": "3.12.7"
  }
 },
 "nbformat": 4,
 "nbformat_minor": 4
}
