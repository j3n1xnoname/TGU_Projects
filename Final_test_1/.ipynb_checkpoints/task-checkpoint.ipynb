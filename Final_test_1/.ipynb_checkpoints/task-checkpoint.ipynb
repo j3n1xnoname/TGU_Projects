{
  "nbformat": 4,
  "nbformat_minor": 0,
  "metadata": {
    "colab": {
      "provenance": [],
      "collapsed_sections": [
        "ubl8S6m-Okfm",
        "N-iVm0gwVeje",
        "yLwuG12GX7I8",
        "aYbhjsqTjE6Y",
        "Tr37w503a0IQ",
        "msdTAzxbZLyz",
        "BZ3S2K4LubeX"
      ]
    },
    "kernelspec": {
      "name": "python3",
      "display_name": "Python 3"
    },
    "language_info": {
      "name": "python"
    }
  },
  "cells": [
    {
      "cell_type": "markdown",
      "source": [
        "# Описание датасета"
      ],
      "metadata": {
        "id": "ubl8S6m-Okfm"
      }
    },
    {
      "cell_type": "markdown",
      "source": [
        "![](https://storage.googleapis.com/kaggle-datasets-images/1617785/2659800/c06a7a3de61a874af446f350118ca9ca/dataset-cover.jpg?t=2021-09-28-18-06-09)\n",
        "<br>Представлен датасет с данными об игроках режима «Карьера» компьютерной игры FIFA 2022 (датасет выложен на платформе [Kaggle](https://www.kaggle.com/datasets/stefanoleone992/fifa-22-complete-player-dataset))."
      ],
      "metadata": {
        "id": "ZpY_ynBcRHJP"
      }
    },
    {
      "cell_type": "markdown",
      "source": [
        "**Формат файла** : *csv*"
      ],
      "metadata": {
        "id": "TOpmRX4Vvqme"
      }
    },
    {
      "cell_type": "markdown",
      "source": [
        "**Ссылка на файл** : https://drive.google.com/file/d/1TO3ZFteyoxQ1GQYrs9Y3hDSdhxXDpx1u/view?usp=share_link"
      ],
      "metadata": {
        "id": "d3Viry5eSTw9"
      }
    },
    {
      "cell_type": "markdown",
      "source": [
        "# Обзор датасета. Библиотека Pandas"
      ],
      "metadata": {
        "id": "N-iVm0gwVeje"
      }
    },
    {
      "cell_type": "code",
      "source": [
        "# при ошибке загрузки в текущей версии gdown необходимо его обновить\n",
        "!pip install --upgrade gdown"
      ],
      "metadata": {
        "id": "DAjG5ez-ZZ1y"
      },
      "execution_count": null,
      "outputs": []
    },
    {
      "cell_type": "code",
      "execution_count": null,
      "metadata": {
        "id": "mZFaBGyVO11S"
      },
      "outputs": [],
      "source": [
        "# скачайте датасет с помощью команды !gdown\n",
        "!gdown --id"
      ]
    },
    {
      "cell_type": "code",
      "source": [
        "# импортируйте библиотеку pandas\n",
        "import"
      ],
      "metadata": {
        "id": "oFiDlt-tTJqK"
      },
      "execution_count": null,
      "outputs": []
    },
    {
      "cell_type": "code",
      "source": [
        "# прочитайте датасет и сохраните его в переменную\n",
        "df ="
      ],
      "metadata": {
        "id": "7q_PjhIpS6kJ"
      },
      "execution_count": null,
      "outputs": []
    },
    {
      "cell_type": "code",
      "source": [
        "# проведите визуальный обзор датасета\n",
        "df."
      ],
      "metadata": {
        "id": "jeUuSYrhTRGL"
      },
      "execution_count": null,
      "outputs": []
    },
    {
      "cell_type": "code",
      "source": [
        "# определите количество ячеек в датафрейме (строки X столбцы)\n",
        "df."
      ],
      "metadata": {
        "id": "HqReIiUwTTAg"
      },
      "execution_count": null,
      "outputs": []
    },
    {
      "cell_type": "code",
      "source": [
        "# определите количество наблюдений в датафрейме\n",
        "df"
      ],
      "metadata": {
        "id": "nfOoW2hsUZgZ"
      },
      "execution_count": null,
      "outputs": []
    },
    {
      "cell_type": "code",
      "source": [
        "# определите количество признаков в датафрейме\n",
        "df"
      ],
      "metadata": {
        "id": "ezVvMlbsUQQP"
      },
      "execution_count": null,
      "outputs": []
    },
    {
      "cell_type": "code",
      "source": [
        "# определите тип данных по признаку 'wage_eur'\n",
        "df['wage_eur']"
      ],
      "metadata": {
        "id": "8oI1LtMIUfvh"
      },
      "execution_count": null,
      "outputs": []
    },
    {
      "cell_type": "markdown",
      "source": [
        "# Исключение признаков, работа с дубликатами"
      ],
      "metadata": {
        "id": "yLwuG12GX7I8"
      }
    },
    {
      "cell_type": "code",
      "source": [
        "# создайте копию датафрейма, сохранив его в переменную df1\n",
        "df1 ="
      ],
      "metadata": {
        "id": "QMiIn5GPX7JC"
      },
      "execution_count": null,
      "outputs": []
    },
    {
      "cell_type": "code",
      "source": [
        "# список столбцов, которые необходимо исключить\n",
        "columns = ['club_position',\n",
        " 'club_jersey_number',\n",
        " 'club_loaned_from',\n",
        " 'club_joined',\n",
        " 'club_contract_valid_until',\n",
        " 'nationality_id',\n",
        " 'nationality_name',\n",
        " 'nation_team_id',\n",
        " 'nation_position',\n",
        " 'nation_jersey_number',\n",
        " 'preferred_foot',\n",
        " 'weak_foot',\n",
        " 'skill_moves',\n",
        " 'international_reputation',\n",
        " 'work_rate',\n",
        " 'body_type',\n",
        " 'real_face',\n",
        " 'release_clause_eur',\n",
        " 'player_tags',\n",
        " 'player_traits',\n",
        " 'pace',\n",
        " 'shooting',\n",
        " 'passing',\n",
        " 'dribbling',\n",
        " 'defending',\n",
        " 'physic',\n",
        " 'attacking_crossing',\n",
        " 'attacking_finishing',\n",
        " 'attacking_heading_accuracy',\n",
        " 'attacking_short_passing',\n",
        " 'attacking_volleys',\n",
        " 'skill_dribbling',\n",
        " 'skill_curve',\n",
        " 'skill_fk_accuracy',\n",
        " 'skill_long_passing',\n",
        " 'skill_ball_control',\n",
        " 'movement_acceleration',\n",
        " 'movement_sprint_speed',\n",
        " 'movement_agility',\n",
        " 'movement_reactions',\n",
        " 'movement_balance',\n",
        " 'power_shot_power',\n",
        " 'power_jumping',\n",
        " 'power_stamina',\n",
        " 'power_strength',\n",
        " 'power_long_shots',\n",
        " 'mentality_aggression',\n",
        " 'mentality_interceptions',\n",
        " 'mentality_positioning',\n",
        " 'mentality_vision',\n",
        " 'mentality_penalties',\n",
        " 'mentality_composure',\n",
        " 'defending_marking_awareness',\n",
        " 'defending_standing_tackle',\n",
        " 'defending_sliding_tackle',\n",
        " 'goalkeeping_diving',\n",
        " 'goalkeeping_handling',\n",
        " 'goalkeeping_kicking',\n",
        " 'goalkeeping_positioning',\n",
        " 'goalkeeping_reflexes',\n",
        " 'goalkeeping_speed',\n",
        " 'ls',\n",
        " 'st',\n",
        " 'rs',\n",
        " 'lw',\n",
        " 'lf',\n",
        " 'cf',\n",
        " 'rf',\n",
        " 'rw',\n",
        " 'lam',\n",
        " 'cam',\n",
        " 'ram',\n",
        " 'lm',\n",
        " 'lcm',\n",
        " 'cm',\n",
        " 'rcm',\n",
        " 'rm',\n",
        " 'lwb',\n",
        " 'ldm',\n",
        " 'cdm',\n",
        " 'rdm',\n",
        " 'rwb',\n",
        " 'lb',\n",
        " 'lcb',\n",
        " 'cb',\n",
        " 'rcb',\n",
        " 'rb',\n",
        " 'gk',\n",
        " 'player_face_url',\n",
        " 'club_logo_url',\n",
        " 'club_flag_url',\n",
        " 'nation_logo_url',\n",
        " 'nation_flag_url']"
      ],
      "metadata": {
        "id": "ANq-IMWLb-xl"
      },
      "execution_count": null,
      "outputs": []
    },
    {
      "cell_type": "code",
      "source": [
        "# исключите столбцы списка columns из датафрейма, автоматически перезаписав его\n",
        "df1."
      ],
      "metadata": {
        "id": "Zu9Gft_qcf47"
      },
      "execution_count": null,
      "outputs": []
    },
    {
      "cell_type": "code",
      "source": [
        "# определите количество признаков в датафрейме\n",
        "df1"
      ],
      "metadata": {
        "id": "-psgJj5LctJO"
      },
      "execution_count": null,
      "outputs": []
    },
    {
      "cell_type": "code",
      "source": [
        "# определите количество \"полных\" дубликатов\n",
        "# (именно повторно встречающихся записей, первые записи не помечаются)\n",
        "df1"
      ],
      "metadata": {
        "id": "hT9i2GZAc4Dl"
      },
      "execution_count": null,
      "outputs": []
    },
    {
      "cell_type": "code",
      "source": [
        "# определите количество дубликатов по признакам 'short_name' и 'age' (при условии совпадения значений по обоим признакам)\n",
        "# (именно повторно встречающихся записей, первые записи не помечаются)\n",
        "df1"
      ],
      "metadata": {
        "id": "1Paqq-y0c6NT"
      },
      "execution_count": null,
      "outputs": []
    },
    {
      "cell_type": "code",
      "source": [
        "# исключите все записи, по которым совпадают значения по признакам 'long_name' и 'club_name'\n",
        "# (автоматически перезапишите датафрейм)\n",
        "df1"
      ],
      "metadata": {
        "id": "iD9NSJIjeTMM"
      },
      "execution_count": null,
      "outputs": []
    },
    {
      "cell_type": "code",
      "source": [
        "# определите количество записей после исключения дубликатов\n",
        "df1"
      ],
      "metadata": {
        "id": "MVmc-kXEfmln"
      },
      "execution_count": null,
      "outputs": []
    },
    {
      "cell_type": "markdown",
      "source": [
        "# Работа с пропусками"
      ],
      "metadata": {
        "id": "aYbhjsqTjE6Y"
      }
    },
    {
      "cell_type": "code",
      "source": [
        "# определите, по каким признакам присутствуют пропущенные значения\n",
        "df1."
      ],
      "metadata": {
        "id": "qxYjkHnolif4"
      },
      "execution_count": null,
      "outputs": []
    },
    {
      "cell_type": "code",
      "source": [
        "# определите процент пропусков по признаку 'value_eur'\n",
        "df1['value_eur']."
      ],
      "metadata": {
        "id": "-3BD8fz6jE6i"
      },
      "execution_count": null,
      "outputs": []
    },
    {
      "cell_type": "code",
      "source": [
        "# определите количество заполненных значений по признаку 'league_name'\n",
        "df1['league_name']."
      ],
      "metadata": {
        "id": "n73EIdfejE6j"
      },
      "execution_count": null,
      "outputs": []
    },
    {
      "cell_type": "code",
      "source": [
        "# исключите все записи, по которым отсутствуют значения по признаку 'club_name'\n",
        "# (автоматически перезапишите датафрейм)\n",
        "df1."
      ],
      "metadata": {
        "id": "ZrQfe0okjE6m"
      },
      "execution_count": null,
      "outputs": []
    },
    {
      "cell_type": "code",
      "source": [
        "# определите количество пропущенных значений по признаку 'value_eur'\n",
        "df1."
      ],
      "metadata": {
        "id": "bsMOfWKpnvNy"
      },
      "execution_count": null,
      "outputs": []
    },
    {
      "cell_type": "code",
      "source": [
        "# найдите среднее значение по признаку 'value_eur'\n",
        "mean ="
      ],
      "metadata": {
        "id": "XI9Zf_HIoDOq"
      },
      "execution_count": null,
      "outputs": []
    },
    {
      "cell_type": "code",
      "source": [
        "# заполните средним значением отсутствующие значения по признаку 'value_eur'\n",
        "# (автоматически перезапишите датафрейм)\n",
        "df1['value_eur']."
      ],
      "metadata": {
        "id": "OAN-LNkJpC-m"
      },
      "execution_count": null,
      "outputs": []
    },
    {
      "cell_type": "code",
      "source": [
        "# сбросьте индексы после всех преобразований\n",
        "# (автоматически перезапишите датафрейм)\n",
        "df1."
      ],
      "metadata": {
        "id": "analF35ppcls"
      },
      "execution_count": null,
      "outputs": []
    },
    {
      "cell_type": "code",
      "source": [
        "# проверьте диапазон индексов\n",
        "df1."
      ],
      "metadata": {
        "id": "jtaG9yoopuCy"
      },
      "execution_count": null,
      "outputs": []
    },
    {
      "cell_type": "markdown",
      "source": [
        "# Преобразование данных"
      ],
      "metadata": {
        "id": "Tr37w503a0IQ"
      }
    },
    {
      "cell_type": "code",
      "source": [
        "# определите формат данных признака 'dob'\n",
        "df1."
      ],
      "metadata": {
        "id": "uLdsBB2na0IW"
      },
      "execution_count": null,
      "outputs": []
    },
    {
      "cell_type": "code",
      "source": [
        "# переведите значения признака 'dob' в формат datetime\n",
        "df1['dob'] ="
      ],
      "metadata": {
        "id": "d3Q-55vMa0IW"
      },
      "execution_count": null,
      "outputs": []
    },
    {
      "cell_type": "code",
      "source": [
        "# отобразите даты в формате ДД.ММ.ГГГГ\n",
        "df1['dob'] ="
      ],
      "metadata": {
        "id": "P9UxbdQ4MBUq"
      },
      "execution_count": null,
      "outputs": []
    },
    {
      "cell_type": "code",
      "source": [
        "# определите формат данных признака 'overall'\n",
        "df1['overall']"
      ],
      "metadata": {
        "id": "TLZg8Hpla0IX"
      },
      "execution_count": null,
      "outputs": []
    },
    {
      "cell_type": "code",
      "source": [
        "# переведите значения признака 'overall' в формат числа с плавающей точкой\n",
        "df1['overall']"
      ],
      "metadata": {
        "id": "AxIAK-0oa0IX"
      },
      "execution_count": null,
      "outputs": []
    },
    {
      "cell_type": "code",
      "source": [
        "# определите формат данных признака 'value_eur'\n",
        "df1['value_eur']"
      ],
      "metadata": {
        "id": "S4pxTl-xa0IY"
      },
      "execution_count": null,
      "outputs": []
    },
    {
      "cell_type": "code",
      "source": [
        "# переведите значения признака 'value_eur' в формат целого числа\n",
        "df1['value_eur']"
      ],
      "metadata": {
        "id": "tRzNy-vAa0IY"
      },
      "execution_count": null,
      "outputs": []
    },
    {
      "cell_type": "markdown",
      "source": [
        "# Расчёт доп. признаков"
      ],
      "metadata": {
        "id": "msdTAzxbZLyz"
      }
    },
    {
      "cell_type": "code",
      "source": [
        "# рассчитайте актуальный возраст на текущий год (без учета дня и месяца рождения) и сохраните данные в столбец 'age_new'\n",
        "df1['age_new'] ="
      ],
      "metadata": {
        "id": "3aymwgAMZLzH"
      },
      "execution_count": null,
      "outputs": []
    },
    {
      "cell_type": "code",
      "source": [
        "# определите разницу в возрасте (количество лет) между футболистами под индексом 0 и 10017\n",
        "df1['age_new']"
      ],
      "metadata": {
        "id": "iDf3GJbqiTKC"
      },
      "execution_count": null,
      "outputs": []
    },
    {
      "cell_type": "code",
      "source": [
        "# определите индекс массы тела футболистов, округлив результат до двух знаков после запятой\n",
        "# запишите результаты в столбец 'imt'\n",
        "# ИМТ = вес (в килограммах) : (рост (м))**2\n",
        "# вес - 'weight_kg', рост - 'height_cm'\n",
        "df1['imt'] ="
      ],
      "metadata": {
        "id": "60wIU8xcZLzI"
      },
      "execution_count": null,
      "outputs": []
    },
    {
      "cell_type": "code",
      "source": [
        "# определите среднее значение ИМТ с помощью метода mean(), округлив результат до двух знаков после запятой\n",
        "df1['imt']"
      ],
      "metadata": {
        "id": "a0_4zCwhkNaA"
      },
      "execution_count": null,
      "outputs": []
    },
    {
      "cell_type": "code",
      "source": [
        "# закодируйте значения по признаку 'player_positions' по условию:\n",
        "# если указано одно значение, то присвоить 0, в противном случае - 1\n",
        "# результаты сохраните в столбец 'player_positions_code'\n",
        "# подсказка: количество значений можно определить как длину списка, определенного с помощью метода split()\n",
        "df1['player_positions_code'] ="
      ],
      "metadata": {
        "id": "jhoGLJA7nRJp"
      },
      "execution_count": null,
      "outputs": []
    },
    {
      "cell_type": "code",
      "source": [
        "# определите наиболее часто встречаемое значение по признаку 'player_positions_code'\n",
        "# подсказка: используйте метод mode()\n",
        "df1['player_positions_code']."
      ],
      "metadata": {
        "id": "BT3yD8Y2pLQy"
      },
      "execution_count": null,
      "outputs": []
    },
    {
      "cell_type": "code",
      "source": [
        "# закодируйте значения по признаку 'player_positions_code' с помощью словаря:\n",
        "# 0: one, 1: several\n",
        "# результаты сохраните в столбец 'player_positions_category'\n",
        "player_positions_dict =\n",
        "df1['player_positions_category'] ="
      ],
      "metadata": {
        "id": "ssZ35xpVp_Ym"
      },
      "execution_count": null,
      "outputs": []
    },
    {
      "cell_type": "code",
      "source": [
        "# определите количество значений several по признаку 'player_positions_category'\n",
        "# подсказка: для вывода булевых значений используйте оператор сравнения\n",
        "# подсказка: для расчета количества используйте метод sum()\n",
        "df1['player_positions_category']"
      ],
      "metadata": {
        "id": "Sq1pxCUfZLzI"
      },
      "execution_count": null,
      "outputs": []
    },
    {
      "cell_type": "markdown",
      "source": [
        "# Форматирование текстовых данных"
      ],
      "metadata": {
        "id": "BZ3S2K4LubeX"
      }
    },
    {
      "cell_type": "code",
      "source": [
        "# определите количество уникальных значений по признаку 'league_name'\n",
        "df1['league_name']"
      ],
      "metadata": {
        "id": "_71n_OAsubeu"
      },
      "execution_count": null,
      "outputs": []
    },
    {
      "cell_type": "code",
      "source": [
        "# приведите строковые значения признака 'league_name' в нижний регистр\n",
        "df1['league_name'] ="
      ],
      "metadata": {
        "id": "5RhYApRNv8ot"
      },
      "execution_count": null,
      "outputs": []
    },
    {
      "cell_type": "code",
      "source": [
        "# определите, сколько раз встречается подстрока 'russia' в строковых данных признака 'league_name'\n",
        "df1['league_name']."
      ],
      "metadata": {
        "id": "_2EFuTZxwpbf"
      },
      "execution_count": null,
      "outputs": []
    },
    {
      "cell_type": "code",
      "source": [
        "# заполните все пустые значения по признаку 'league_name' значением 'не указано'\n",
        "df1['league_name'] ="
      ],
      "metadata": {
        "id": "VtI2CzrlyJi-"
      },
      "execution_count": null,
      "outputs": []
    },
    {
      "cell_type": "code",
      "source": [
        "# замените значения 'не указано' по признаку 'league_name' на значение 'undefined'\n",
        "df1['league_name'] ="
      ],
      "metadata": {
        "id": "t5PKHZyAyfXT"
      },
      "execution_count": null,
      "outputs": []
    },
    {
      "cell_type": "code",
      "source": [
        "# определите, сколько раз встречается подстрока 'undefined' в строковых данных признака 'league_name'\n",
        "df1['league_name']."
      ],
      "metadata": {
        "id": "72Uh9qTqzfte"
      },
      "execution_count": null,
      "outputs": []
    },
    {
      "cell_type": "code",
      "source": [
        "# разделите строки по признаку 'player_positions' на список подстрок\n",
        "df1['player_positions'] ="
      ],
      "metadata": {
        "id": "B4zBbM3Pubev"
      },
      "execution_count": null,
      "outputs": []
    },
    {
      "cell_type": "code",
      "source": [
        "# трансформируйте датафрейм по признаку 'player_positions' и сохраните его в переменную df2\n",
        "df2 ="
      ],
      "metadata": {
        "id": "dI_mnaQo2sp3"
      },
      "execution_count": null,
      "outputs": []
    },
    {
      "cell_type": "code",
      "source": [
        "# определите количество наблюдений в датафрейме df2\n",
        "df2"
      ],
      "metadata": {
        "id": "4b_igvGD3TjI"
      },
      "execution_count": null,
      "outputs": []
    },
    {
      "cell_type": "code",
      "source": [
        "# сохраните датафрейм df1 в формат xlsx без учета индексного столбца\n",
        "df1."
      ],
      "metadata": {
        "id": "tmKT4ueR4Rip"
      },
      "execution_count": null,
      "outputs": []
    },
    {
      "cell_type": "code",
      "source": [
        "# сохраните датафрейм df2 в формат csv\n",
        "df2."
      ],
      "metadata": {
        "id": "4nHFRu3u4yV8"
      },
      "execution_count": null,
      "outputs": []
    }
  ]
}